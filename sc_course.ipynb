{
  "cells": [
    {
      "cell_type": "code",
      "execution_count": null,
      "metadata": {
        "colab": {
          "base_uri": "https://localhost:8080/"
        },
        "id": "pYgst_VIbnMi",
        "outputId": "f710ed26-f86f-4b2e-9bbf-c6bb7e0048cf"
      },
      "outputs": [
        {
          "name": "stdout",
          "output_type": "stream",
          "text": [
            "Requirement already satisfied: tensorflow in /usr/local/lib/python3.12/dist-packages (2.19.0)\n",
            "Requirement already satisfied: keras in /usr/local/lib/python3.12/dist-packages (3.10.0)\n",
            "Collecting scikit-fuzzy\n",
            "  Downloading scikit_fuzzy-0.5.0-py2.py3-none-any.whl.metadata (2.6 kB)\n",
            "Requirement already satisfied: opencv-python in /usr/local/lib/python3.12/dist-packages (4.12.0.88)\n",
            "Requirement already satisfied: matplotlib in /usr/local/lib/python3.12/dist-packages (3.10.0)\n",
            "Requirement already satisfied: numpy in /usr/local/lib/python3.12/dist-packages (2.0.2)\n",
            "Requirement already satisfied: scikit-learn in /usr/local/lib/python3.12/dist-packages (1.6.1)\n",
            "Requirement already satisfied: absl-py>=1.0.0 in /usr/local/lib/python3.12/dist-packages (from tensorflow) (1.4.0)\n",
            "Requirement already satisfied: astunparse>=1.6.0 in /usr/local/lib/python3.12/dist-packages (from tensorflow) (1.6.3)\n",
            "Requirement already satisfied: flatbuffers>=24.3.25 in /usr/local/lib/python3.12/dist-packages (from tensorflow) (25.9.23)\n",
            "Requirement already satisfied: gast!=0.5.0,!=0.5.1,!=0.5.2,>=0.2.1 in /usr/local/lib/python3.12/dist-packages (from tensorflow) (0.6.0)\n",
            "Requirement already satisfied: google-pasta>=0.1.1 in /usr/local/lib/python3.12/dist-packages (from tensorflow) (0.2.0)\n",
            "Requirement already satisfied: libclang>=13.0.0 in /usr/local/lib/python3.12/dist-packages (from tensorflow) (18.1.1)\n",
            "Requirement already satisfied: opt-einsum>=2.3.2 in /usr/local/lib/python3.12/dist-packages (from tensorflow) (3.4.0)\n",
            "Requirement already satisfied: packaging in /usr/local/lib/python3.12/dist-packages (from tensorflow) (25.0)\n",
            "Requirement already satisfied: protobuf!=4.21.0,!=4.21.1,!=4.21.2,!=4.21.3,!=4.21.4,!=4.21.5,<6.0.0dev,>=3.20.3 in /usr/local/lib/python3.12/dist-packages (from tensorflow) (5.29.5)\n",
            "Requirement already satisfied: requests<3,>=2.21.0 in /usr/local/lib/python3.12/dist-packages (from tensorflow) (2.32.4)\n",
            "Requirement already satisfied: setuptools in /usr/local/lib/python3.12/dist-packages (from tensorflow) (75.2.0)\n",
            "Requirement already satisfied: six>=1.12.0 in /usr/local/lib/python3.12/dist-packages (from tensorflow) (1.17.0)\n",
            "Requirement already satisfied: termcolor>=1.1.0 in /usr/local/lib/python3.12/dist-packages (from tensorflow) (3.1.0)\n",
            "Requirement already satisfied: typing-extensions>=3.6.6 in /usr/local/lib/python3.12/dist-packages (from tensorflow) (4.15.0)\n",
            "Requirement already satisfied: wrapt>=1.11.0 in /usr/local/lib/python3.12/dist-packages (from tensorflow) (1.17.3)\n",
            "Requirement already satisfied: grpcio<2.0,>=1.24.3 in /usr/local/lib/python3.12/dist-packages (from tensorflow) (1.75.1)\n",
            "Requirement already satisfied: tensorboard~=2.19.0 in /usr/local/lib/python3.12/dist-packages (from tensorflow) (2.19.0)\n",
            "Requirement already satisfied: h5py>=3.11.0 in /usr/local/lib/python3.12/dist-packages (from tensorflow) (3.14.0)\n",
            "Requirement already satisfied: ml-dtypes<1.0.0,>=0.5.1 in /usr/local/lib/python3.12/dist-packages (from tensorflow) (0.5.3)\n",
            "Requirement already satisfied: rich in /usr/local/lib/python3.12/dist-packages (from keras) (13.9.4)\n",
            "Requirement already satisfied: namex in /usr/local/lib/python3.12/dist-packages (from keras) (0.1.0)\n",
            "Requirement already satisfied: optree in /usr/local/lib/python3.12/dist-packages (from keras) (0.17.0)\n",
            "Requirement already satisfied: contourpy>=1.0.1 in /usr/local/lib/python3.12/dist-packages (from matplotlib) (1.3.3)\n",
            "Requirement already satisfied: cycler>=0.10 in /usr/local/lib/python3.12/dist-packages (from matplotlib) (0.12.1)\n",
            "Requirement already satisfied: fonttools>=4.22.0 in /usr/local/lib/python3.12/dist-packages (from matplotlib) (4.60.1)\n",
            "Requirement already satisfied: kiwisolver>=1.3.1 in /usr/local/lib/python3.12/dist-packages (from matplotlib) (1.4.9)\n",
            "Requirement already satisfied: pillow>=8 in /usr/local/lib/python3.12/dist-packages (from matplotlib) (11.3.0)\n",
            "Requirement already satisfied: pyparsing>=2.3.1 in /usr/local/lib/python3.12/dist-packages (from matplotlib) (3.2.5)\n",
            "Requirement already satisfied: python-dateutil>=2.7 in /usr/local/lib/python3.12/dist-packages (from matplotlib) (2.9.0.post0)\n",
            "Requirement already satisfied: scipy>=1.6.0 in /usr/local/lib/python3.12/dist-packages (from scikit-learn) (1.16.2)\n",
            "Requirement already satisfied: joblib>=1.2.0 in /usr/local/lib/python3.12/dist-packages (from scikit-learn) (1.5.2)\n",
            "Requirement already satisfied: threadpoolctl>=3.1.0 in /usr/local/lib/python3.12/dist-packages (from scikit-learn) (3.6.0)\n",
            "Requirement already satisfied: wheel<1.0,>=0.23.0 in /usr/local/lib/python3.12/dist-packages (from astunparse>=1.6.0->tensorflow) (0.45.1)\n",
            "Requirement already satisfied: charset_normalizer<4,>=2 in /usr/local/lib/python3.12/dist-packages (from requests<3,>=2.21.0->tensorflow) (3.4.3)\n",
            "Requirement already satisfied: idna<4,>=2.5 in /usr/local/lib/python3.12/dist-packages (from requests<3,>=2.21.0->tensorflow) (3.10)\n",
            "Requirement already satisfied: urllib3<3,>=1.21.1 in /usr/local/lib/python3.12/dist-packages (from requests<3,>=2.21.0->tensorflow) (2.5.0)\n",
            "Requirement already satisfied: certifi>=2017.4.17 in /usr/local/lib/python3.12/dist-packages (from requests<3,>=2.21.0->tensorflow) (2025.10.5)\n",
            "Requirement already satisfied: markdown>=2.6.8 in /usr/local/lib/python3.12/dist-packages (from tensorboard~=2.19.0->tensorflow) (3.9)\n",
            "Requirement already satisfied: tensorboard-data-server<0.8.0,>=0.7.0 in /usr/local/lib/python3.12/dist-packages (from tensorboard~=2.19.0->tensorflow) (0.7.2)\n",
            "Requirement already satisfied: werkzeug>=1.0.1 in /usr/local/lib/python3.12/dist-packages (from tensorboard~=2.19.0->tensorflow) (3.1.3)\n",
            "Requirement already satisfied: markdown-it-py>=2.2.0 in /usr/local/lib/python3.12/dist-packages (from rich->keras) (4.0.0)\n",
            "Requirement already satisfied: pygments<3.0.0,>=2.13.0 in /usr/local/lib/python3.12/dist-packages (from rich->keras) (2.19.2)\n",
            "Requirement already satisfied: mdurl~=0.1 in /usr/local/lib/python3.12/dist-packages (from markdown-it-py>=2.2.0->rich->keras) (0.1.2)\n",
            "Requirement already satisfied: MarkupSafe>=2.1.1 in /usr/local/lib/python3.12/dist-packages (from werkzeug>=1.0.1->tensorboard~=2.19.0->tensorflow) (3.0.3)\n",
            "Downloading scikit_fuzzy-0.5.0-py2.py3-none-any.whl (920 kB)\n",
            "\u001b[2K   \u001b[90m━━━━━━━━━━━━━━━━━━━━━━━━━━━━━━━━━━━━━━━━\u001b[0m \u001b[32m920.8/920.8 kB\u001b[0m \u001b[31m11.1 MB/s\u001b[0m eta \u001b[36m0:00:00\u001b[0m\n",
            "\u001b[?25hInstalling collected packages: scikit-fuzzy\n",
            "Successfully installed scikit-fuzzy-0.5.0\n"
          ]
        }
      ],
      "source": [
        "!pip install tensorflow keras scikit-fuzzy opencv-python matplotlib numpy scikit-learn\n"
      ]
    },
    {
      "cell_type": "code",
      "execution_count": null,
      "metadata": {
        "colab": {
          "base_uri": "https://localhost:8080/",
          "height": 73
        },
        "id": "62-l55nYc6MG",
        "outputId": "dbe8c4bc-37c5-4b79-8980-c8cbd2c5c153"
      },
      "outputs": [
        {
          "data": {
            "text/html": [
              "\n",
              "     <input type=\"file\" id=\"files-e396afe9-b2ce-4292-a3dd-41a964184b30\" name=\"files[]\" multiple disabled\n",
              "        style=\"border:none\" />\n",
              "     <output id=\"result-e396afe9-b2ce-4292-a3dd-41a964184b30\">\n",
              "      Upload widget is only available when the cell has been executed in the\n",
              "      current browser session. Please rerun this cell to enable.\n",
              "      </output>\n",
              "      <script>// Copyright 2017 Google LLC\n",
              "//\n",
              "// Licensed under the Apache License, Version 2.0 (the \"License\");\n",
              "// you may not use this file except in compliance with the License.\n",
              "// You may obtain a copy of the License at\n",
              "//\n",
              "//      http://www.apache.org/licenses/LICENSE-2.0\n",
              "//\n",
              "// Unless required by applicable law or agreed to in writing, software\n",
              "// distributed under the License is distributed on an \"AS IS\" BASIS,\n",
              "// WITHOUT WARRANTIES OR CONDITIONS OF ANY KIND, either express or implied.\n",
              "// See the License for the specific language governing permissions and\n",
              "// limitations under the License.\n",
              "\n",
              "/**\n",
              " * @fileoverview Helpers for google.colab Python module.\n",
              " */\n",
              "(function(scope) {\n",
              "function span(text, styleAttributes = {}) {\n",
              "  const element = document.createElement('span');\n",
              "  element.textContent = text;\n",
              "  for (const key of Object.keys(styleAttributes)) {\n",
              "    element.style[key] = styleAttributes[key];\n",
              "  }\n",
              "  return element;\n",
              "}\n",
              "\n",
              "// Max number of bytes which will be uploaded at a time.\n",
              "const MAX_PAYLOAD_SIZE = 100 * 1024;\n",
              "\n",
              "function _uploadFiles(inputId, outputId) {\n",
              "  const steps = uploadFilesStep(inputId, outputId);\n",
              "  const outputElement = document.getElementById(outputId);\n",
              "  // Cache steps on the outputElement to make it available for the next call\n",
              "  // to uploadFilesContinue from Python.\n",
              "  outputElement.steps = steps;\n",
              "\n",
              "  return _uploadFilesContinue(outputId);\n",
              "}\n",
              "\n",
              "// This is roughly an async generator (not supported in the browser yet),\n",
              "// where there are multiple asynchronous steps and the Python side is going\n",
              "// to poll for completion of each step.\n",
              "// This uses a Promise to block the python side on completion of each step,\n",
              "// then passes the result of the previous step as the input to the next step.\n",
              "function _uploadFilesContinue(outputId) {\n",
              "  const outputElement = document.getElementById(outputId);\n",
              "  const steps = outputElement.steps;\n",
              "\n",
              "  const next = steps.next(outputElement.lastPromiseValue);\n",
              "  return Promise.resolve(next.value.promise).then((value) => {\n",
              "    // Cache the last promise value to make it available to the next\n",
              "    // step of the generator.\n",
              "    outputElement.lastPromiseValue = value;\n",
              "    return next.value.response;\n",
              "  });\n",
              "}\n",
              "\n",
              "/**\n",
              " * Generator function which is called between each async step of the upload\n",
              " * process.\n",
              " * @param {string} inputId Element ID of the input file picker element.\n",
              " * @param {string} outputId Element ID of the output display.\n",
              " * @return {!Iterable<!Object>} Iterable of next steps.\n",
              " */\n",
              "function* uploadFilesStep(inputId, outputId) {\n",
              "  const inputElement = document.getElementById(inputId);\n",
              "  inputElement.disabled = false;\n",
              "\n",
              "  const outputElement = document.getElementById(outputId);\n",
              "  outputElement.innerHTML = '';\n",
              "\n",
              "  const pickedPromise = new Promise((resolve) => {\n",
              "    inputElement.addEventListener('change', (e) => {\n",
              "      resolve(e.target.files);\n",
              "    });\n",
              "  });\n",
              "\n",
              "  const cancel = document.createElement('button');\n",
              "  inputElement.parentElement.appendChild(cancel);\n",
              "  cancel.textContent = 'Cancel upload';\n",
              "  const cancelPromise = new Promise((resolve) => {\n",
              "    cancel.onclick = () => {\n",
              "      resolve(null);\n",
              "    };\n",
              "  });\n",
              "\n",
              "  // Wait for the user to pick the files.\n",
              "  const files = yield {\n",
              "    promise: Promise.race([pickedPromise, cancelPromise]),\n",
              "    response: {\n",
              "      action: 'starting',\n",
              "    }\n",
              "  };\n",
              "\n",
              "  cancel.remove();\n",
              "\n",
              "  // Disable the input element since further picks are not allowed.\n",
              "  inputElement.disabled = true;\n",
              "\n",
              "  if (!files) {\n",
              "    return {\n",
              "      response: {\n",
              "        action: 'complete',\n",
              "      }\n",
              "    };\n",
              "  }\n",
              "\n",
              "  for (const file of files) {\n",
              "    const li = document.createElement('li');\n",
              "    li.append(span(file.name, {fontWeight: 'bold'}));\n",
              "    li.append(span(\n",
              "        `(${file.type || 'n/a'}) - ${file.size} bytes, ` +\n",
              "        `last modified: ${\n",
              "            file.lastModifiedDate ? file.lastModifiedDate.toLocaleDateString() :\n",
              "                                    'n/a'} - `));\n",
              "    const percent = span('0% done');\n",
              "    li.appendChild(percent);\n",
              "\n",
              "    outputElement.appendChild(li);\n",
              "\n",
              "    const fileDataPromise = new Promise((resolve) => {\n",
              "      const reader = new FileReader();\n",
              "      reader.onload = (e) => {\n",
              "        resolve(e.target.result);\n",
              "      };\n",
              "      reader.readAsArrayBuffer(file);\n",
              "    });\n",
              "    // Wait for the data to be ready.\n",
              "    let fileData = yield {\n",
              "      promise: fileDataPromise,\n",
              "      response: {\n",
              "        action: 'continue',\n",
              "      }\n",
              "    };\n",
              "\n",
              "    // Use a chunked sending to avoid message size limits. See b/62115660.\n",
              "    let position = 0;\n",
              "    do {\n",
              "      const length = Math.min(fileData.byteLength - position, MAX_PAYLOAD_SIZE);\n",
              "      const chunk = new Uint8Array(fileData, position, length);\n",
              "      position += length;\n",
              "\n",
              "      const base64 = btoa(String.fromCharCode.apply(null, chunk));\n",
              "      yield {\n",
              "        response: {\n",
              "          action: 'append',\n",
              "          file: file.name,\n",
              "          data: base64,\n",
              "        },\n",
              "      };\n",
              "\n",
              "      let percentDone = fileData.byteLength === 0 ?\n",
              "          100 :\n",
              "          Math.round((position / fileData.byteLength) * 100);\n",
              "      percent.textContent = `${percentDone}% done`;\n",
              "\n",
              "    } while (position < fileData.byteLength);\n",
              "  }\n",
              "\n",
              "  // All done.\n",
              "  yield {\n",
              "    response: {\n",
              "      action: 'complete',\n",
              "    }\n",
              "  };\n",
              "}\n",
              "\n",
              "scope.google = scope.google || {};\n",
              "scope.google.colab = scope.google.colab || {};\n",
              "scope.google.colab._files = {\n",
              "  _uploadFiles,\n",
              "  _uploadFilesContinue,\n",
              "};\n",
              "})(self);\n",
              "</script> "
            ],
            "text/plain": [
              "<IPython.core.display.HTML object>"
            ]
          },
          "metadata": {},
          "output_type": "display_data"
        },
        {
          "name": "stdout",
          "output_type": "stream",
          "text": [
            "Saving archive.zip to archive.zip\n"
          ]
        }
      ],
      "source": [
        "from google.colab import files\n",
        "uploaded = files.upload()   #Upload your Kaggle dataset zip file here\n"
      ]
    },
    {
      "cell_type": "code",
      "execution_count": null,
      "metadata": {
        "id": "dNsZ7UywesuO"
      },
      "outputs": [],
      "source": [
        "import zipfile, os\n",
        "\n",
        "with zipfile.ZipFile(\"archive.zip\", 'r') as zip_ref:\n",
        "    zip_ref.extractall(\"lung_disease\")  # this will create the folder 'lung_disease'\n"
      ]
    },
    {
      "cell_type": "code",
      "execution_count": null,
      "metadata": {
        "colab": {
          "base_uri": "https://localhost:8080/"
        },
        "id": "qEJF3bylgtO4",
        "outputId": "70616647-4678-4448-ea07-fb01b99df32c"
      },
      "outputs": [
        {
          "data": {
            "text/plain": [
              "['Lung X-Ray Image']"
            ]
          },
          "execution_count": 4,
          "metadata": {},
          "output_type": "execute_result"
        }
      ],
      "source": [
        "os.listdir(\"lung_disease\")\n"
      ]
    },
    {
      "cell_type": "code",
      "execution_count": null,
      "metadata": {
        "id": "UIuHRO0Agy5k"
      },
      "outputs": [],
      "source": [
        "import os\n",
        "import cv2\n",
        "import numpy as np\n",
        "from tensorflow.keras.utils import to_categorical\n"
      ]
    },
    {
      "cell_type": "code",
      "execution_count": null,
      "metadata": {
        "colab": {
          "base_uri": "https://localhost:8080/"
        },
        "id": "hnMIbFNThDG_",
        "outputId": "48019b6e-c476-4bc8-c449-52097f6ff07a"
      },
      "outputs": [
        {
          "name": "stdout",
          "output_type": "stream",
          "text": [
            "Classes found: {'Lung X-Ray Image': 0, 'Viral Pneumonia': 1, 'Lung_Opacity': 2, 'Normal': 3}\n",
            "Total images found (loaded): 3475\n",
            "Total skipped files (unreadable/non-image): 0\n",
            "X shape: (3475, 128, 128, 1)\n",
            "y_labels shape: (3475,)\n",
            "y_onehot shape: (3475, 4)\n",
            "Train: (2780, 128, 128, 1) (2780, 4)\n",
            "Test: (695, 128, 128, 1) (695, 4)\n",
            "Label to class name mapping example: {0: 'Lung X-Ray Image', 1: 'Viral Pneumonia', 2: 'Lung_Opacity', 3: 'Normal'}\n"
          ]
        }
      ],
      "source": [
        "# Robust image loader for Colab (run this whole cell)\n",
        "import os, cv2, numpy as np\n",
        "from tensorflow.keras.utils import to_categorical\n",
        "from sklearn.model_selection import train_test_split\n",
        "\n",
        "base_path = \"lung_disease\"   # change if your extracted folder has a different name\n",
        "\n",
        "# allowed image extensions (lowercase)\n",
        "allowed_exts = {'.jpg', '.jpeg', '.png', '.bmp', '.tif', '.tiff'}\n",
        "\n",
        "X = []\n",
        "y_labels = []            # numeric labels\n",
        "class_name_to_label = {} # map folder name -> numeric label\n",
        "label_counter = 0\n",
        "skipped_files = []\n",
        "\n",
        "# Walk recursively through base_path\n",
        "if not os.path.exists(base_path):\n",
        "    raise FileNotFoundError(f\"Base path not found: {base_path}. Check your folder name and path.\")\n",
        "\n",
        "for root, dirs, files in os.walk(base_path):\n",
        "    # Determine class name as the last folder in the path relative to base_path\n",
        "    # If root == base_path, we skip files directly inside root (they are not labelled)\n",
        "    if os.path.abspath(root) == os.path.abspath(base_path):\n",
        "        # skip files directly under base folder (we expect class subfolders)\n",
        "        continue\n",
        "\n",
        "    class_name = os.path.basename(root).strip()\n",
        "    if class_name == \"\":\n",
        "        continue\n",
        "\n",
        "    # Register class name -> label\n",
        "    if class_name not in class_name_to_label:\n",
        "        class_name_to_label[class_name] = label_counter\n",
        "        label_counter += 1\n",
        "\n",
        "    label = class_name_to_label[class_name]\n",
        "\n",
        "    for fname in files:\n",
        "        _, ext = os.path.splitext(fname)\n",
        "        if ext.lower() not in allowed_exts:\n",
        "            # Ignore non-image files\n",
        "            continue\n",
        "\n",
        "        fpath = os.path.join(root, fname)\n",
        "        # Read image in grayscale\n",
        "        img = cv2.imread(fpath, cv2.IMREAD_GRAYSCALE)\n",
        "        if img is None:\n",
        "            skipped_files.append(fpath)\n",
        "            continue\n",
        "\n",
        "        try:\n",
        "            img = cv2.resize(img, (128, 128))  # resize to 128x128\n",
        "        except Exception as e:\n",
        "            skipped_files.append(f\"{fpath} (resize error: {e})\")\n",
        "            continue\n",
        "\n",
        "        X.append(img)\n",
        "        y_labels.append(label)\n",
        "\n",
        "# Diagnostics\n",
        "print(\"Classes found:\", class_name_to_label)\n",
        "print(\"Total images found (loaded):\", len(X))\n",
        "print(\"Total skipped files (unreadable/non-image):\", len(skipped_files))\n",
        "if len(skipped_files) > 0:\n",
        "    print(\"Examples of skipped files (up to 10):\")\n",
        "    for s in skipped_files[:10]:\n",
        "        print(\"  \", s)\n",
        "\n",
        "if len(X) == 0:\n",
        "    # helpful diagnostics to show what's in the base_path\n",
        "    print(\"\\n>>> No images were loaded. Directory listing of base_path:\")\n",
        "    for item in os.listdir(base_path):\n",
        "        print(\" -\", item)\n",
        "    raise RuntimeError(\"No images loaded. Check that your dataset contains image files inside subfolders and that base_path variable is correct.\")\n",
        "\n",
        "# Convert to numpy arrays and normalize\n",
        "X = np.array(X, dtype=np.float32).reshape(-1, 128, 128, 1) / 255.0\n",
        "y_labels = np.array(y_labels, dtype=np.int32)\n",
        "y_onehot = to_categorical(y_labels, num_classes=len(class_name_to_label))\n",
        "\n",
        "print(\"X shape:\", X.shape)\n",
        "print(\"y_labels shape:\", y_labels.shape)\n",
        "print(\"y_onehot shape:\", y_onehot.shape)\n",
        "\n",
        "# Optional: split into train/test with stratify\n",
        "X_train, X_test, y_train, y_test = train_test_split(\n",
        "    X, y_onehot, test_size=0.2, random_state=42, stratify=y_labels\n",
        ")\n",
        "\n",
        "print(\"Train:\", X_train.shape, y_train.shape)\n",
        "print(\"Test:\", X_test.shape, y_test.shape)\n",
        "\n",
        "# Save outputs to variables for next steps\n",
        "class_names = {v:k for k,v in class_name_to_label.items()}  # label->name mapping\n",
        "print(\"Label to class name mapping example:\", class_names)\n"
      ]
    },
    {
      "cell_type": "code",
      "execution_count": null,
      "metadata": {
        "colab": {
          "background_save": true,
          "base_uri": "https://localhost:8080/"
        },
        "id": "As2EDR2PilVu",
        "outputId": "ca24abed-088f-4e7e-afd1-abe4b74017f6"
      },
      "outputs": [
        {
          "name": "stderr",
          "output_type": "stream",
          "text": [
            "/usr/local/lib/python3.12/dist-packages/keras/src/layers/convolutional/base_conv.py:113: UserWarning: Do not pass an `input_shape`/`input_dim` argument to a layer. When using Sequential models, prefer using an `Input(shape)` object as the first layer in the model instead.\n",
            "  super().__init__(activity_regularizer=activity_regularizer, **kwargs)\n"
          ]
        },
        {
          "name": "stdout",
          "output_type": "stream",
          "text": [
            "Epoch 1/10\n",
            "\u001b[1m174/174\u001b[0m \u001b[32m━━━━━━━━━━━━━━━━━━━━\u001b[0m\u001b[37m\u001b[0m \u001b[1m86s\u001b[0m 460ms/step - accuracy: 0.5492 - loss: 0.9340 - val_accuracy: 0.8058 - val_loss: 0.5017\n",
            "Epoch 2/10\n",
            "\u001b[1m174/174\u001b[0m \u001b[32m━━━━━━━━━━━━━━━━━━━━\u001b[0m\u001b[37m\u001b[0m \u001b[1m83s\u001b[0m 476ms/step - accuracy: 0.7952 - loss: 0.4847 - val_accuracy: 0.7813 - val_loss: 0.5831\n",
            "Epoch 3/10\n",
            "\u001b[1m174/174\u001b[0m \u001b[32m━━━━━━━━━━━━━━━━━━━━\u001b[0m\u001b[37m\u001b[0m \u001b[1m79s\u001b[0m 455ms/step - accuracy: 0.8504 - loss: 0.4067 - val_accuracy: 0.8403 - val_loss: 0.3508\n",
            "Epoch 4/10\n",
            "\u001b[1m174/174\u001b[0m \u001b[32m━━━━━━━━━━━━━━━━━━━━\u001b[0m\u001b[37m\u001b[0m \u001b[1m80s\u001b[0m 462ms/step - accuracy: 0.8683 - loss: 0.3265 - val_accuracy: 0.8475 - val_loss: 0.3632\n",
            "Epoch 5/10\n",
            "\u001b[1m174/174\u001b[0m \u001b[32m━━━━━━━━━━━━━━━━━━━━\u001b[0m\u001b[37m\u001b[0m \u001b[1m82s\u001b[0m 474ms/step - accuracy: 0.8888 - loss: 0.2989 - val_accuracy: 0.8489 - val_loss: 0.3572\n",
            "Epoch 6/10\n",
            "\u001b[1m174/174\u001b[0m \u001b[32m━━━━━━━━━━━━━━━━━━━━\u001b[0m\u001b[37m\u001b[0m \u001b[1m139s\u001b[0m 460ms/step - accuracy: 0.8913 - loss: 0.2762 - val_accuracy: 0.8676 - val_loss: 0.3507\n",
            "Epoch 7/10\n",
            "\u001b[1m174/174\u001b[0m \u001b[32m━━━━━━━━━━━━━━━━━━━━\u001b[0m\u001b[37m\u001b[0m \u001b[1m82s\u001b[0m 460ms/step - accuracy: 0.9009 - loss: 0.2400 - val_accuracy: 0.8719 - val_loss: 0.2998\n",
            "Epoch 8/10\n",
            "\u001b[1m174/174\u001b[0m \u001b[32m━━━━━━━━━━━━━━━━━━━━\u001b[0m\u001b[37m\u001b[0m \u001b[1m79s\u001b[0m 456ms/step - accuracy: 0.9103 - loss: 0.2185 - val_accuracy: 0.8705 - val_loss: 0.3465\n",
            "Epoch 9/10\n",
            "\u001b[1m174/174\u001b[0m \u001b[32m━━━━━━━━━━━━━━━━━━━━\u001b[0m\u001b[37m\u001b[0m \u001b[1m79s\u001b[0m 454ms/step - accuracy: 0.9194 - loss: 0.2047 - val_accuracy: 0.8619 - val_loss: 0.3572\n",
            "Epoch 10/10\n",
            "\u001b[1m174/174\u001b[0m \u001b[32m━━━━━━━━━━━━━━━━━━━━\u001b[0m\u001b[37m\u001b[0m \u001b[1m88s\u001b[0m 488ms/step - accuracy: 0.9317 - loss: 0.1813 - val_accuracy: 0.8691 - val_loss: 0.3806\n",
            "\u001b[1m22/22\u001b[0m \u001b[32m━━━━━━━━━━━━━━━━━━━━\u001b[0m\u001b[37m\u001b[0m \u001b[1m5s\u001b[0m 227ms/step - accuracy: 0.8727 - loss: 0.3913\n",
            "\n",
            "✅ Test Accuracy: 86.91 %\n"
          ]
        }
      ],
      "source": [
        "from tensorflow.keras.models import Sequential\n",
        "from tensorflow.keras.layers import Conv2D, MaxPooling2D, Flatten, Dense, Dropout\n",
        "from tensorflow.keras.optimizers import Adam\n",
        "\n",
        "# Build CNN model\n",
        "model = Sequential([\n",
        "    Conv2D(32, (3,3), activation='relu', input_shape=(128,128,1)),\n",
        "    MaxPooling2D(2,2),\n",
        "\n",
        "    Conv2D(64, (3,3), activation='relu'),\n",
        "    MaxPooling2D(2,2),\n",
        "\n",
        "    Conv2D(128, (3,3), activation='relu'),\n",
        "    MaxPooling2D(2,2),\n",
        "\n",
        "    Flatten(),\n",
        "    Dense(128, activation='relu'),\n",
        "    Dropout(0.3),\n",
        "    Dense(y_train.shape[1], activation='softmax')\n",
        "])\n",
        "\n",
        "# Compile model\n",
        "model.compile(optimizer=Adam(learning_rate=0.001),\n",
        "              loss='categorical_crossentropy',\n",
        "              metrics=['accuracy'])\n",
        "\n",
        "# Train model\n",
        "history = model.fit(X_train, y_train,\n",
        "                    epochs=10,\n",
        "                    batch_size=16,\n",
        "                    validation_data=(X_test, y_test))\n",
        "\n",
        "# Evaluate model\n",
        "test_loss, test_acc = model.evaluate(X_test, y_test)\n",
        "print(\"\\n✅ Test Accuracy:\", round(test_acc * 100, 2), \"%\")\n"
      ]
    },
    {
      "cell_type": "code",
      "execution_count": null,
      "metadata": {
        "colab": {
          "background_save": true
        },
        "id": "ovAFciP8ioAB",
        "outputId": "fe6b6876-f046-4544-d772-fa2f6a719f40"
      },
      "outputs": [
        {
          "data": {
            "image/png": "[encoded data removed]",
            "text/plain": [
              "<Figure size 640x480 with 1 Axes>"
            ]
          },
          "metadata": {},
          "output_type": "display_data"
        }
      ],
      "source": [
        "import matplotlib.pyplot as plt\n",
        "plt.plot(history.history['accuracy'], label='Train Accuracy')\n",
        "plt.plot(history.history['val_accuracy'], label='Validation Accuracy')\n",
        "plt.legend()\n",
        "plt.xlabel('Epochs')\n",
        "plt.ylabel('Accuracy')\n",
        "plt.title('Model Accuracy Progress')\n",
        "plt.show()\n"
      ]
    },
    {
      "cell_type": "code",
      "execution_count": null,
      "metadata": {
        "colab": {
          "background_save": true
        },
        "id": "OrzKe6Femtuh",
        "outputId": "e8961f5a-b647-45a2-a82a-49d48479b75d"
      },
      "outputs": [
        {
          "name": "stdout",
          "output_type": "stream",
          "text": [
            "Requirement already satisfied: scikit-fuzzy in /usr/local/lib/python3.12/dist-packages (0.5.0)\n"
          ]
        }
      ],
      "source": [
        "!pip install scikit-fuzzy\n",
        "import numpy as np\n",
        "import skfuzzy as fuzz\n",
        "import skfuzzy.control as ctrl\n"
      ]
    },
    {
      "cell_type": "code",
      "execution_count": null,
      "metadata": {
        "colab": {
          "background_save": true
        },
        "id": "jh7C4wqLneDv",
        "outputId": "6a73e871-bb30-45ea-df80-c4193ef290de"
      },
      "outputs": [
        {
          "name": "stdout",
          "output_type": "stream",
          "text": [
            "\u001b[1m22/22\u001b[0m \u001b[32m━━━━━━━━━━━━━━━━━━━━\u001b[0m\u001b[37m\u001b[0m \u001b[1m5s\u001b[0m 221ms/step\n",
            "CNN Predicted Probabilities: [1.1928292e-10 4.3740741e-08 9.4150144e-01 5.8498610e-02]\n",
            "Class order: {0: 'Lung X-Ray Image', 1: 'Viral Pneumonia', 2: 'Lung_Opacity', 3: 'Normal'}\n"
          ]
        }
      ],
      "source": [
        "# Get CNN probabilities\n",
        "pred_probs = model.predict(X_test)\n",
        "\n",
        "# Example: take first test sample\n",
        "sample_pred = pred_probs[0]\n",
        "print(\"CNN Predicted Probabilities:\", sample_pred)\n",
        "\n",
        "# Class names for reference\n",
        "print(\"Class order:\", class_names)\n"
      ]
    },
    {
      "cell_type": "code",
      "execution_count": null,
      "metadata": {
        "colab": {
          "background_save": true
        },
        "id": "z06YECoVnmj_"
      },
      "outputs": [],
      "source": [
        "# Input fuzzy variable: confidence (0 to 1)\n",
        "confidence = ctrl.Antecedent(np.arange(0, 1.01, 0.01), 'confidence')\n",
        "\n",
        "# Output fuzzy variable: severity (0 to 100)\n",
        "severity = ctrl.Consequent(np.arange(0, 101, 1), 'severity')\n",
        "\n",
        "# Define fuzzy membership functions\n",
        "confidence['low'] = fuzz.trimf(confidence.universe, [0, 0, 0.5])\n",
        "confidence['medium'] = fuzz.trimf(confidence.universe, [0.3, 0.5, 0.7])\n",
        "confidence['high'] = fuzz.trimf(confidence.universe, [0.6, 1, 1])\n",
        "\n",
        "severity['normal'] = fuzz.trimf(severity.universe, [0, 0, 40])\n",
        "severity['mild'] = fuzz.trimf(severity.universe, [30, 50, 70])\n",
        "severity['severe'] = fuzz.trimf(severity.universe, [60, 100, 100])\n"
      ]
    },
    {
      "cell_type": "code",
      "execution_count": null,
      "metadata": {
        "colab": {
          "background_save": true
        },
        "id": "0rM3s9wXnwza"
      },
      "outputs": [],
      "source": [
        "rule1 = ctrl.Rule(confidence['low'], severity['normal'])\n",
        "rule2 = ctrl.Rule(confidence['medium'], severity['mild'])\n",
        "rule3 = ctrl.Rule(confidence['high'], severity['severe'])\n",
        "\n",
        "severity_ctrl = ctrl.ControlSystem([rule1, rule2, rule3])\n",
        "severity_sim = ctrl.ControlSystemSimulation(severity_ctrl)\n"
      ]
    },
    {
      "cell_type": "code",
      "execution_count": null,
      "metadata": {
        "colab": {
          "background_save": true
        },
        "id": "nKFtBpUFn2Rf",
        "outputId": "a5f34e5d-30df-44a6-cbb3-d5fe1df61ad2"
      },
      "outputs": [
        {
          "name": "stdout",
          "output_type": "stream",
          "text": [
            "CNN confidence: 0.942\n",
            "Fuzzy severity output: 86.42\n"
          ]
        }
      ],
      "source": [
        "# Get CNN’s highest confidence\n",
        "cnn_confidence = np.max(sample_pred)\n",
        "\n",
        "severity_sim.input['confidence'] = cnn_confidence\n",
        "severity_sim.compute()\n",
        "\n",
        "print(\"CNN confidence:\", round(cnn_confidence, 3))\n",
        "print(\"Fuzzy severity output:\", round(severity_sim.output['severity'], 2))\n"
      ]
    },
    {
      "cell_type": "code",
      "execution_count": null,
      "metadata": {
        "colab": {
          "background_save": true
        },
        "id": "XCl92MA8oDTO",
        "outputId": "14b21041-25a6-4a0c-b9ce-f3a1a25a9b35"
      },
      "outputs": [
        {
          "name": "stdout",
          "output_type": "stream",
          "text": [
            "🩺 Final Fuzzy Diagnosis: Severe Disease Detected\n"
          ]
        }
      ],
      "source": [
        "if severity_sim.output['severity'] < 40:\n",
        "    diagnosis = \"Normal\"\n",
        "elif severity_sim.output['severity'] < 70:\n",
        "    diagnosis = \"Mild Disease Detected\"\n",
        "else:\n",
        "    diagnosis = \"Severe Disease Detected\"\n",
        "\n",
        "print(\"🩺 Final Fuzzy Diagnosis:\", diagnosis)\n"
      ]
    },
    {
      "cell_type": "code",
      "execution_count": null,
      "metadata": {
        "colab": {
          "background_save": true
        },
        "id": "RCPCA_Zkpsaf"
      },
      "outputs": [],
      "source": [
        "import cv2, numpy as np\n",
        "import skfuzzy as fuzz\n",
        "import skfuzzy.control as ctrl\n",
        "from tensorflow.keras.preprocessing import image\n",
        "\n",
        "# --- Fuzzy logic setup (same as before) ---\n",
        "confidence = ctrl.Antecedent(np.arange(0, 1.01, 0.01), 'confidence')\n",
        "severity = ctrl.Consequent(np.arange(0, 101, 1), 'severity')\n",
        "\n",
        "confidence['low'] = fuzz.trimf(confidence.universe, [0, 0, 0.5])\n",
        "confidence['medium'] = fuzz.trimf(confidence.universe, [0.3, 0.5, 0.7])\n",
        "confidence['high'] = fuzz.trimf(confidence.universe, [0.6, 1, 1])\n",
        "\n",
        "severity['normal'] = fuzz.trimf(severity.universe, [0, 0, 40])\n",
        "severity['mild'] = fuzz.trimf(severity.universe, [30, 50, 70])\n",
        "severity['severe'] = fuzz.trimf(severity.universe, [60, 100, 100])\n",
        "\n",
        "rule1 = ctrl.Rule(confidence['low'], severity['normal'])\n",
        "rule2 = ctrl.Rule(confidence['medium'], severity['mild'])\n",
        "rule3 = ctrl.Rule(confidence['high'], severity['severe'])\n",
        "\n",
        "severity_ctrl = ctrl.ControlSystem([rule1, rule2, rule3])\n",
        "severity_sim = ctrl.ControlSystemSimulation(severity_ctrl)\n",
        "\n",
        "\n",
        "# --- Unified function ---\n",
        "def predict_with_fuzzy(img_path):\n",
        "    # 1️⃣ Load and preprocess the image\n",
        "    img = image.load_img(img_path, color_mode='grayscale', target_size=(128,128))\n",
        "    img_array = image.img_to_array(img)\n",
        "    img_array = np.expand_dims(img_array, axis=0) / 255.0\n",
        "\n",
        "    # 2️⃣ CNN prediction\n",
        "    preds = model.predict(img_array)\n",
        "    predicted_label = np.argmax(preds)\n",
        "    confidence_val = np.max(preds)\n",
        "    predicted_class = class_names[predicted_label]\n",
        "\n",
        "    # 3️⃣ Apply fuzzy logic\n",
        "    severity_sim.input['confidence'] = confidence_val\n",
        "    severity_sim.compute()\n",
        "\n",
        "    fuzzy_val = severity_sim.output['severity']\n",
        "    if fuzzy_val < 40:\n",
        "        fuzzy_diag = \"Normal\"\n",
        "    elif fuzzy_val < 70:\n",
        "        fuzzy_diag = \"Mild Disease Detected\"\n",
        "    else:\n",
        "        fuzzy_diag = \"Severe Disease Detected\"\n",
        "\n",
        "    # 4️⃣ Show result\n",
        "    print(\"🔹 CNN Predicted Class:\", predicted_class)\n",
        "    print(\"🔹 CNN Confidence:\", round(confidence_val, 3))\n",
        "    print(\"🔹 Fuzzy Severity Output:\", round(fuzzy_val, 2))\n",
        "    print(\"🩺 Final Fuzzy Diagnosis:\", fuzzy_diag)\n",
        "    return predicted_class, fuzzy_diag\n"
      ]
    },
    {
      "cell_type": "code",
      "execution_count": null,
      "metadata": {
        "colab": {
          "background_save": true
        },
        "id": "n6zBUF2spxOg",
        "outputId": "c5b1c4cc-2927-4587-e306-3b4f06e563ca"
      },
      "outputs": [
        {
          "data": {
            "text/html": [
              "\n",
              "     <input type=\"file\" id=\"files-027f39c0-988c-4ce8-896a-8fbf22aeeb2a\" name=\"files[]\" multiple disabled\n",
              "        style=\"border:none\" />\n",
              "     <output id=\"result-027f39c0-988c-4ce8-896a-8fbf22aeeb2a\">\n",
              "      Upload widget is only available when the cell has been executed in the\n",
              "      current browser session. Please rerun this cell to enable.\n",
              "      </output>\n",
              "      <script>// Copyright 2017 Google LLC\n",
              "//\n",
              "// Licensed under the Apache License, Version 2.0 (the \"License\");\n",
              "// you may not use this file except in compliance with the License.\n",
              "// You may obtain a copy of the License at\n",
              "//\n",
              "//      http://www.apache.org/licenses/LICENSE-2.0\n",
              "//\n",
              "// Unless required by applicable law or agreed to in writing, software\n",
              "// distributed under the License is distributed on an \"AS IS\" BASIS,\n",
              "// WITHOUT WARRANTIES OR CONDITIONS OF ANY KIND, either express or implied.\n",
              "// See the License for the specific language governing permissions and\n",
              "// limitations under the License.\n",
              "\n",
              "/**\n",
              " * @fileoverview Helpers for google.colab Python module.\n",
              " */\n",
              "(function(scope) {\n",
              "function span(text, styleAttributes = {}) {\n",
              "  const element = document.createElement('span');\n",
              "  element.textContent = text;\n",
              "  for (const key of Object.keys(styleAttributes)) {\n",
              "    element.style[key] = styleAttributes[key];\n",
              "  }\n",
              "  return element;\n",
              "}\n",
              "\n",
              "// Max number of bytes which will be uploaded at a time.\n",
              "const MAX_PAYLOAD_SIZE = 100 * 1024;\n",
              "\n",
              "function _uploadFiles(inputId, outputId) {\n",
              "  const steps = uploadFilesStep(inputId, outputId);\n",
              "  const outputElement = document.getElementById(outputId);\n",
              "  // Cache steps on the outputElement to make it available for the next call\n",
              "  // to uploadFilesContinue from Python.\n",
              "  outputElement.steps = steps;\n",
              "\n",
              "  return _uploadFilesContinue(outputId);\n",
              "}\n",
              "\n",
              "// This is roughly an async generator (not supported in the browser yet),\n",
              "// where there are multiple asynchronous steps and the Python side is going\n",
              "// to poll for completion of each step.\n",
              "// This uses a Promise to block the python side on completion of each step,\n",
              "// then passes the result of the previous step as the input to the next step.\n",
              "function _uploadFilesContinue(outputId) {\n",
              "  const outputElement = document.getElementById(outputId);\n",
              "  const steps = outputElement.steps;\n",
              "\n",
              "  const next = steps.next(outputElement.lastPromiseValue);\n",
              "  return Promise.resolve(next.value.promise).then((value) => {\n",
              "    // Cache the last promise value to make it available to the next\n",
              "    // step of the generator.\n",
              "    outputElement.lastPromiseValue = value;\n",
              "    return next.value.response;\n",
              "  });\n",
              "}\n",
              "\n",
              "/**\n",
              " * Generator function which is called between each async step of the upload\n",
              " * process.\n",
              " * @param {string} inputId Element ID of the input file picker element.\n",
              " * @param {string} outputId Element ID of the output display.\n",
              " * @return {!Iterable<!Object>} Iterable of next steps.\n",
              " */\n",
              "function* uploadFilesStep(inputId, outputId) {\n",
              "  const inputElement = document.getElementById(inputId);\n",
              "  inputElement.disabled = false;\n",
              "\n",
              "  const outputElement = document.getElementById(outputId);\n",
              "  outputElement.innerHTML = '';\n",
              "\n",
              "  const pickedPromise = new Promise((resolve) => {\n",
              "    inputElement.addEventListener('change', (e) => {\n",
              "      resolve(e.target.files);\n",
              "    });\n",
              "  });\n",
              "\n",
              "  const cancel = document.createElement('button');\n",
              "  inputElement.parentElement.appendChild(cancel);\n",
              "  cancel.textContent = 'Cancel upload';\n",
              "  const cancelPromise = new Promise((resolve) => {\n",
              "    cancel.onclick = () => {\n",
              "      resolve(null);\n",
              "    };\n",
              "  });\n",
              "\n",
              "  // Wait for the user to pick the files.\n",
              "  const files = yield {\n",
              "    promise: Promise.race([pickedPromise, cancelPromise]),\n",
              "    response: {\n",
              "      action: 'starting',\n",
              "    }\n",
              "  };\n",
              "\n",
              "  cancel.remove();\n",
              "\n",
              "  // Disable the input element since further picks are not allowed.\n",
              "  inputElement.disabled = true;\n",
              "\n",
              "  if (!files) {\n",
              "    return {\n",
              "      response: {\n",
              "        action: 'complete',\n",
              "      }\n",
              "    };\n",
              "  }\n",
              "\n",
              "  for (const file of files) {\n",
              "    const li = document.createElement('li');\n",
              "    li.append(span(file.name, {fontWeight: 'bold'}));\n",
              "    li.append(span(\n",
              "        `(${file.type || 'n/a'}) - ${file.size} bytes, ` +\n",
              "        `last modified: ${\n",
              "            file.lastModifiedDate ? file.lastModifiedDate.toLocaleDateString() :\n",
              "                                    'n/a'} - `));\n",
              "    const percent = span('0% done');\n",
              "    li.appendChild(percent);\n",
              "\n",
              "    outputElement.appendChild(li);\n",
              "\n",
              "    const fileDataPromise = new Promise((resolve) => {\n",
              "      const reader = new FileReader();\n",
              "      reader.onload = (e) => {\n",
              "        resolve(e.target.result);\n",
              "      };\n",
              "      reader.readAsArrayBuffer(file);\n",
              "    });\n",
              "    // Wait for the data to be ready.\n",
              "    let fileData = yield {\n",
              "      promise: fileDataPromise,\n",
              "      response: {\n",
              "        action: 'continue',\n",
              "      }\n",
              "    };\n",
              "\n",
              "    // Use a chunked sending to avoid message size limits. See b/62115660.\n",
              "    let position = 0;\n",
              "    do {\n",
              "      const length = Math.min(fileData.byteLength - position, MAX_PAYLOAD_SIZE);\n",
              "      const chunk = new Uint8Array(fileData, position, length);\n",
              "      position += length;\n",
              "\n",
              "      const base64 = btoa(String.fromCharCode.apply(null, chunk));\n",
              "      yield {\n",
              "        response: {\n",
              "          action: 'append',\n",
              "          file: file.name,\n",
              "          data: base64,\n",
              "        },\n",
              "      };\n",
              "\n",
              "      let percentDone = fileData.byteLength === 0 ?\n",
              "          100 :\n",
              "          Math.round((position / fileData.byteLength) * 100);\n",
              "      percent.textContent = `${percentDone}% done`;\n",
              "\n",
              "    } while (position < fileData.byteLength);\n",
              "  }\n",
              "\n",
              "  // All done.\n",
              "  yield {\n",
              "    response: {\n",
              "      action: 'complete',\n",
              "    }\n",
              "  };\n",
              "}\n",
              "\n",
              "scope.google = scope.google || {};\n",
              "scope.google.colab = scope.google.colab || {};\n",
              "scope.google.colab._files = {\n",
              "  _uploadFiles,\n",
              "  _uploadFilesContinue,\n",
              "};\n",
              "})(self);\n",
              "</script> "
            ],
            "text/plain": [
              "<IPython.core.display.HTML object>"
            ]
          },
          "metadata": {},
          "output_type": "display_data"
        }
      ],
      "source": [
        "from google.colab import files\n",
        "uploaded = files.upload()   # upload one image\n"
      ]
    },
    {
      "cell_type": "code",
      "execution_count": null,
      "metadata": {
        "id": "3Gua7BvCsB2p"
      },
      "outputs": [],
      "source": [
        "{'my_lung_image.jpg': b'...'}\n"
      ]
    },
    {
      "cell_type": "code",
      "execution_count": null,
      "metadata": {
        "id": "yqY8HdH2tQZH"
      },
      "outputs": [],
      "source": [
        "predict_with_fuzzy(\"93.jpg\")\n"
      ]
    }
  ],
  "metadata": {
    "colab": {
      "provenance": []
    },
    "kernelspec": {
      "display_name": "Python 3",
      "name": "python3"
    },
    "language_info": {
      "name": "python"
    }
  },
  "nbformat": 4,
  "nbformat_minor": 0
}